{
 "cells": [
  {
   "cell_type": "code",
   "execution_count": 4,
   "id": "09d56085-c7ba-4ccc-ab4d-fb1dd856a03e",
   "metadata": {},
   "outputs": [],
   "source": [
    "import tensorflow as tf\n",
    "import cv2\n",
    "from matplotlib import pyplot as plt\n",
    "import os"
   ]
  },
  {
   "cell_type": "code",
   "execution_count": 26,
   "id": "1adcc77d-8c3f-420f-8b71-5cd7f81d53f9",
   "metadata": {},
   "outputs": [
    {
     "data": {
      "text/plain": [
       "'C:/Users/mayur/mediscan_env/data/raw/dataset'"
      ]
     },
     "execution_count": 26,
     "metadata": {},
     "output_type": "execute_result"
    }
   ],
   "source": [
    "data_dir = \"C:/Users/mayur/mediscan_env/data/raw/dataset\"\n",
    "data_dir"
   ]
  },
  {
   "cell_type": "code",
   "execution_count": 27,
   "id": "8bd98ac5-3c08-4e29-bdcc-101c787c144c",
   "metadata": {},
   "outputs": [],
   "source": [
    "def preprocess_image(img):\n",
    "    # Convert the image to grayscale\n",
    "    gray = cv2.cvtColor(img, cv2.COLOR_BGR2GRAY)\n",
    "\n",
    "    # Apply Gaussian Blur for noise reduction\n",
    "    blur = cv2.GaussianBlur(gray, (5, 5), 0)\n",
    "\n",
    "    # Normalize the image pixel values\n",
    "    norm_img = cv2.normalize(blur, None, alpha=0, beta=255, norm_type=cv2.NORM_MINMAX)\n",
    "\n",
    "    # Enhance contrast using histogram equalization\n",
    "    enhanced_img = cv2.equalizeHist(norm_img)\n",
    "\n",
    "    return enhanced_img\n",
    "\n",
    "\n",
    "for image_class in os.listdir(data_dir):\n",
    "    for image in os.listdir(os.path.join(data_dir,image_class)):\n",
    "        img = cv2.imread(os.path.join(data_dir,image_class,image))\n",
    "        enhanced_img = preprocess_image(img)"
   ]
  },
  {
   "cell_type": "code",
   "execution_count": null,
   "id": "2940938b-4be0-45bc-84e9-05e61465b90e",
   "metadata": {},
   "outputs": [],
   "source": []
  }
 ],
 "metadata": {
  "kernelspec": {
   "display_name": "Python 3 (ipykernel)",
   "language": "python",
   "name": "python3"
  },
  "language_info": {
   "codemirror_mode": {
    "name": "ipython",
    "version": 3
   },
   "file_extension": ".py",
   "mimetype": "text/x-python",
   "name": "python",
   "nbconvert_exporter": "python",
   "pygments_lexer": "ipython3",
   "version": "3.12.3"
  }
 },
 "nbformat": 4,
 "nbformat_minor": 5
}
